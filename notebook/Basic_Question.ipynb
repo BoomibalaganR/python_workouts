{
 "cells": [
  {
   "cell_type": "markdown",
   "metadata": {},
   "source": [
    "1. Write a Python program that takes user input for their name and age, \n",
    "    then prints a message welcoming the user and stating their age.\n"
   ]
  },
  {
   "cell_type": "code",
   "execution_count": null,
   "metadata": {},
   "outputs": [],
   "source": [
    "name = input(\"Enter your name:\")  \n",
    "age = int(input(\"Enter your age:\")) \n",
    "print(\"welcoming the\",name,\" and stating their\",age)"
   ]
  },
  {
   "cell_type": "markdown",
   "metadata": {},
   "source": [
    "2. Write a Python program to find the sum of all numbers in a list."
   ]
  },
  {
   "cell_type": "code",
   "execution_count": null,
   "metadata": {},
   "outputs": [],
   "source": [
    "def sum_of_all(nums): \n",
    "    sum = 0\n",
    "    for i in nums:\n",
    "        sum+=i\n",
    "    return sum \n",
    "\n",
    "nums = [1, 2, 3, 4, 5] \n",
    "print(\"sum of all number: \",sum_of_all(nums))"
   ]
  },
  {
   "cell_type": "markdown",
   "metadata": {},
   "source": [
    "3. Write a Python function that takes a sentence as input and returns the number of vowels in it."
   ]
  },
  {
   "cell_type": "code",
   "execution_count": null,
   "metadata": {},
   "outputs": [],
   "source": [
    "def num_of_vowels(sentence): \n",
    "    count = 0 \n",
    "    vowels = ('a','e','i','o','u') \n",
    "    \n",
    "    for letter in sentence: \n",
    "        \n",
    "        if letter.lower() in vowels: \n",
    "            #print(letter) \n",
    "            count+=1 \n",
    "    return count\n",
    "\n",
    "\n",
    "sentence = \"Apple Orange\"\n",
    "vCount = num_of_vowels(sentence) \n",
    "print(vCount,\"vowels in the given sentence\")"
   ]
  },
  {
   "cell_type": "markdown",
   "metadata": {},
   "source": [
    "4.  Create a Python dictionary representing a book. Include attributes like title, author, and publication year. Write a function to print these details."
   ]
  },
  {
   "cell_type": "code",
   "execution_count": null,
   "metadata": {},
   "outputs": [],
   "source": [
    "def display(book):\n",
    "    \n",
    "    for key in book.keys():\n",
    "        print(key, \" : \", book[key])\n",
    "\n",
    "\n",
    "book = {\"Title\":\"Introduction to python\", \"Author\":\"Bill Lubanovic\", \"Year\":2014} \n",
    "display(book)"
   ]
  },
  {
   "cell_type": "markdown",
   "metadata": {},
   "source": [
    "5.  Write a Python function that checks if a given number is even or odd. Use this function to classify a list of numbers.\n"
   ]
  },
  {
   "cell_type": "code",
   "execution_count": null,
   "metadata": {},
   "outputs": [],
   "source": [
    "def isEven(num):\n",
    "    return num%2 == 0\n",
    "\n",
    "\n",
    "nums = [1, 2, 3, 4, 5]  \n",
    "for i in nums: \n",
    "    \n",
    "    if isEven(i):\n",
    "        print(i, \"is even\") \n",
    "    else:\n",
    "        print(i, \"is odd\")"
   ]
  },
  {
   "cell_type": "markdown",
   "metadata": {},
   "source": [
    "6.  Create a text file containing a list of names. Write a Python program to read the file and print the names in alphabetical order.\n"
   ]
  },
  {
   "cell_type": "code",
   "execution_count": 24,
   "metadata": {},
   "outputs": [
    {
     "name": "stdout",
     "output_type": "stream",
     "text": [
      "['Arun \\n', 'Bharathi \\n', 'Boomibalagan \\n', 'Dhinesh\\n', 'gokul']\n"
     ]
    }
   ],
   "source": [
    "def display_emp_name( file_name):\n",
    "\n",
    "    file = open(file_name, \"r\")  \n",
    "    emp = [] \n",
    "    for i in file: \n",
    "        emp.append(i.removesuffix(\"\\n\"))   \n",
    "    print(sorted(emp))\n",
    "    file.close()  \n",
    "    \n",
    "    \n",
    "display_emp_name(\"employee.txt\")"
   ]
  },
  {
   "cell_type": "markdown",
   "metadata": {},
   "source": [
    "7. Write a Python program that takes two lists and returns a new list containing common elements between them."
   ]
  },
  {
   "cell_type": "code",
   "execution_count": 25,
   "metadata": {},
   "outputs": [
    {
     "name": "stdout",
     "output_type": "stream",
     "text": [
      "[2, 4]\n"
     ]
    }
   ],
   "source": [
    "def find_common_element(nums1, nums2): \n",
    "    \n",
    "    set1 = set(nums1)\n",
    "    set2 = set(nums2)\n",
    "    commonElement = [i for i in set1 if i in set2]\n",
    "    print(commonElement)\n",
    "\n",
    "\n",
    "nums1 = [1, 2, 2, 4, 3]\n",
    "nums2 = [2, 4, 5]\n",
    "\n",
    "find_common_element(nums1, nums2)"
   ]
  },
  {
   "cell_type": "markdown",
   "metadata": {},
   "source": [
    "8. Create a Python class representing a car. Include attributes like make, model, and year. Write methods to accelerate and brake the car."
   ]
  },
  {
   "cell_type": "code",
   "execution_count": null,
   "metadata": {},
   "outputs": [],
   "source": [
    "class Car:\n",
    "    \n",
    "    \n",
    "    def __init__(self, make, model, year):\n",
    "        self.make = make \n",
    "        self.model = model \n",
    "        self.year = year  \n",
    "    \n",
    "    def accelerate(self):\n",
    "        pass\n",
    "    \n",
    "    def brake(self):\n",
    "        pass \n",
    "    \n"
   ]
  },
  {
   "cell_type": "markdown",
   "metadata": {},
   "source": [
    "9. Write a recursive function to calculate the factorial of a given number."
   ]
  },
  {
   "cell_type": "code",
   "execution_count": 1,
   "metadata": {},
   "outputs": [
    {
     "name": "stdout",
     "output_type": "stream",
     "text": [
      "24\n"
     ]
    }
   ],
   "source": [
    "def factorial(n): \n",
    "\n",
    "    if n == 0 : \n",
    "        return 1 \n",
    "    return n*factorial(n-1)\n",
    "    \n",
    "\n",
    "n = 4\n",
    "result = factorial(n) \n",
    "print(result)"
   ]
  },
  {
   "cell_type": "markdown",
   "metadata": {},
   "source": [
    "10. Write a Python program that asks the user for input and handles potential errors (e.g., invalid input or division by zero).\n"
   ]
  },
  {
   "cell_type": "code",
   "execution_count": 23,
   "metadata": {},
   "outputs": [
    {
     "name": "stdout",
     "output_type": "stream",
     "text": [
      "invalid input\n"
     ]
    }
   ],
   "source": [
    "\n",
    "try:\n",
    "    num1 = int(input(\"Enter dividend: \"))\n",
    "    num2 = int(input(\"Enter divisor: \")) \n",
    "    \n",
    "    try: \n",
    "        print(num1/num2)\n",
    "    except: \n",
    "        print(\"division by zero\") \n",
    "        \n",
    "except: \n",
    "    print(\"invalid input\")\n"
   ]
  }
 ],
 "metadata": {
  "kernelspec": {
   "display_name": "Python 3",
   "language": "python",
   "name": "python3"
  },
  "language_info": {
   "codemirror_mode": {
    "name": "ipython",
    "version": 3
   },
   "file_extension": ".py",
   "mimetype": "text/x-python",
   "name": "python",
   "nbconvert_exporter": "python",
   "pygments_lexer": "ipython3",
   "version": "3.10.1"
  }
 },
 "nbformat": 4,
 "nbformat_minor": 2
}
