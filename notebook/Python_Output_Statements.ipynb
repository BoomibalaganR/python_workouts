{
  "cells": [
    {
      "cell_type": "markdown",
      "metadata": {
        "id": "-wvVzQdXnS3B"
      },
      "source": [
        "<font color='green'> <h1> <center> Python - Output Statements </center> </h1> </font>\n"
      ]
    },
    {
      "cell_type": "markdown",
      "metadata": {
        "id": "_rUrKNLbnS3C"
      },
      "source": [
        "<b>First Python Program<b>"
      ]
    },
    {
      "cell_type": "markdown",
      "metadata": {
        "id": "1MEsaZD-nS3E"
      },
      "source": [
        "Communicate to the outside world with a greeting <br>"
      ]
    },
    {
      "cell_type": "code",
      "execution_count": 47,
      "metadata": {
        "id": "jPviKFU4nS3E",
        "outputId": "e518bd4d-1559-4808-b40e-a53295080b5f"
      },
      "outputs": [
        {
          "name": "stdout",
          "output_type": "stream",
          "text": [
            "Hello World from Python!\n"
          ]
        }
      ],
      "source": [
        "print(\"Hello World from Python!\")"
      ]
    },
    {
      "cell_type": "markdown",
      "metadata": {
        "id": "3Fwtbd7AnS3K"
      },
      "source": [
        "Whatever is specified in the print statement gets outputed on the console"
      ]
    },
    {
      "cell_type": "code",
      "execution_count": 48,
      "metadata": {
        "id": "u7-bvKG5nS3K",
        "outputId": "d44317e5-6334-4c16-9e91-dd3416449c18"
      },
      "outputs": [
        {
          "name": "stdout",
          "output_type": "stream",
          "text": [
            "Single quotes also works!\n"
          ]
        }
      ],
      "source": [
        "print('Single quotes also works!')"
      ]
    },
    {
      "cell_type": "code",
      "execution_count": 49,
      "metadata": {
        "id": "sEV8iNkTnS3L",
        "outputId": "ece3ec43-137a-460b-e81d-d0bc58bc6d0a"
      },
      "outputs": [
        {
          "name": "stdout",
          "output_type": "stream",
          "text": [
            "Multiline output \n",
            " can also be printed.\n"
          ]
        }
      ],
      "source": [
        "print(\"Multiline output \\n can also be printed.\")"
      ]
    },
    {
      "cell_type": "code",
      "execution_count": 50,
      "metadata": {
        "id": "X8Y5m9ixnS3M",
        "outputId": "31085759-07cb-45c5-ce6b-5700b20433c1"
      },
      "outputs": [
        {
          "name": "stdout",
          "output_type": "stream",
          "text": [
            "String concatenation also works.\n"
          ]
        }
      ],
      "source": [
        "print('String concatenation', 'also', 'works.')"
      ]
    },
    {
      "cell_type": "markdown",
      "metadata": {
        "id": "dlRlJuMRnS3M"
      },
      "source": [
        "<b>Python Outputs </b>"
      ]
    },
    {
      "cell_type": "markdown",
      "metadata": {
        "id": "V7VrmQDjnS3N"
      },
      "source": [
        "print function requires paranthesis around its arguments. Anything within the quotes will be printed as it is."
      ]
    },
    {
      "cell_type": "code",
      "execution_count": 51,
      "metadata": {
        "id": "Fr31WXAUnS3O",
        "outputId": "e0ddc6f2-7fe9-4458-9fc9-04178ff07ac6"
      },
      "outputs": [
        {
          "name": "stdout",
          "output_type": "stream",
          "text": [
            "3+4\n"
          ]
        }
      ],
      "source": [
        "print('3+4')   #treats '3+4' as string and outputs as is"
      ]
    },
    {
      "cell_type": "code",
      "execution_count": 52,
      "metadata": {
        "id": "ps4pjPQLnS3O",
        "outputId": "aa9b1cfd-854b-429f-a9f6-fb5374b081b6"
      },
      "outputs": [
        {
          "name": "stdout",
          "output_type": "stream",
          "text": [
            "7\n"
          ]
        }
      ],
      "source": [
        "print(3+4)   #evaluates the expression and then prints the outcome"
      ]
    },
    {
      "cell_type": "code",
      "execution_count": 53,
      "metadata": {
        "id": "XoBIic-ZnS3P",
        "outputId": "28688f72-990c-408b-cc25-7c2687e38818"
      },
      "outputs": [
        {
          "name": "stdout",
          "output_type": "stream",
          "text": [
            "3 + 4 =  7\n"
          ]
        }
      ],
      "source": [
        "print('3 + 4 = ', (3+4) )  # strings and expressions can be concatenanted in the single print function call"
      ]
    },
    {
      "cell_type": "code",
      "execution_count": 54,
      "metadata": {
        "id": "B3Co8nH5nS3Q",
        "outputId": "3656fb84-d010-4b3f-e065-c7d8cf02c52c"
      },
      "outputs": [
        {
          "name": "stdout",
          "output_type": "stream",
          "text": [
            "age  35 name ABC\n"
          ]
        }
      ],
      "source": [
        "print('age ', 35, 'name', 'ABC')  # strings and numbers can also be concatenated in single statement"
      ]
    },
    {
      "cell_type": "markdown",
      "metadata": {
        "id": "RKlt7J9EnS3R"
      },
      "source": [
        "<b>Using Separator<b>"
      ]
    },
    {
      "cell_type": "markdown",
      "metadata": {
        "id": "gSglwi2FnS3R"
      },
      "source": [
        "The detault separator between two values in print statements is space."
      ]
    },
    {
      "cell_type": "code",
      "execution_count": 55,
      "metadata": {
        "id": "_bsTxjNenS3S",
        "outputId": "51c7a0e2-b953-477f-c354-fbb34a3f82cf"
      },
      "outputs": [
        {
          "name": "stdout",
          "output_type": "stream",
          "text": [
            "This is first line\n"
          ]
        }
      ],
      "source": [
        "print(\"This\", \"is\", \"first\", \"line\")"
      ]
    },
    {
      "cell_type": "markdown",
      "metadata": {
        "id": "uOOCZytcnS3T"
      },
      "source": [
        "The default separator can be changed with optional parameter 'sep' as follows"
      ]
    },
    {
      "cell_type": "code",
      "execution_count": 56,
      "metadata": {
        "id": "7-akmSfgnS3U",
        "outputId": "feb788fc-f296-4a8e-d706-1bece49934ae"
      },
      "outputs": [
        {
          "name": "stdout",
          "output_type": "stream",
          "text": [
            "This. is. first. line\n"
          ]
        }
      ],
      "source": [
        "print(\"This\", \"is\", \"first\", \"line\", sep=\". \")"
      ]
    },
    {
      "cell_type": "markdown",
      "metadata": {
        "id": "XkfjE8FvnS3W"
      },
      "source": [
        "<b>Using end<b>"
      ]
    },
    {
      "cell_type": "markdown",
      "metadata": {
        "id": "yjtrVxIfnS3W"
      },
      "source": [
        "The default endline character is newline i.e. \\n"
      ]
    },
    {
      "cell_type": "code",
      "execution_count": 57,
      "metadata": {
        "id": "lCMBVBN6nS3X",
        "outputId": "bc226214-ef42-45e4-b041-cd69d22b018e"
      },
      "outputs": [
        {
          "name": "stdout",
          "output_type": "stream",
          "text": [
            "this is first line\n",
            "this is second line\n"
          ]
        }
      ],
      "source": [
        "print(\"this is first line\")\n",
        "print(\"this is second line\")"
      ]
    },
    {
      "cell_type": "markdown",
      "metadata": {
        "id": "z9deUbQnnS3X"
      },
      "source": [
        "This can be changed by optional parameter 'end' as shown below"
      ]
    },
    {
      "cell_type": "code",
      "execution_count": 58,
      "metadata": {
        "id": "ANOHxGz1nS3Y",
        "outputId": "fdc4c8b4-1094-422a-92df-7569ad1d905d"
      },
      "outputs": [
        {
          "name": "stdout",
          "output_type": "stream",
          "text": [
            "this is first line.this is second line\n"
          ]
        }
      ],
      "source": [
        "print(\"this is first line\", end='.')\n",
        "print(\"this is second line\")"
      ]
    },
    {
      "cell_type": "markdown",
      "metadata": {
        "id": "TQbhakkmnS3Y"
      },
      "source": [
        "<b>Exercise <b>"
      ]
    },
    {
      "cell_type": "markdown",
      "metadata": {
        "id": "jUF3QZRznS3Z"
      },
      "source": [
        "Q.1 Print a traingle like one below"
      ]
    },
    {
      "cell_type": "raw",
      "metadata": {
        "id": "7_TuvFLAnS3Z"
      },
      "source": [
        "*\n",
        "**\n",
        "***\n",
        "****\n",
        "*****"
      ]
    },
    {
      "cell_type": "code",
      "execution_count": 61,
      "metadata": {
        "id": "twNQw2yxnS3a"
      },
      "outputs": [
        {
          "name": "stdout",
          "output_type": "stream",
          "text": [
            "*\n",
            "**\n",
            "***\n",
            "****\n",
            "*****\n"
          ]
        }
      ],
      "source": [
        "n = 5\n",
        "for row in range(1,n+1):\n",
        "    for col in range(row):\n",
        "        print(\"*\",end=\"\")\n",
        "    print()"
      ]
    },
    {
      "cell_type": "markdown",
      "metadata": {
        "id": "myRUy0kBnS3a"
      },
      "source": [
        "Q2. Write a program that prints result of following expression.\n"
      ]
    },
    {
      "cell_type": "raw",
      "metadata": {
        "id": "0oH9Y513nS3b"
      },
      "source": [
        "123 - 282\n",
        "----------\n",
        "47.34 + 23"
      ]
    },
    {
      "cell_type": "code",
      "execution_count": 62,
      "metadata": {
        "id": "uUwI_ZnHnS3b"
      },
      "outputs": [
        {
          "name": "stdout",
          "output_type": "stream",
          "text": [
            "-2.260449246516918\n"
          ]
        }
      ],
      "source": [
        "print((123-282)/(47.34 + 23))\n",
        "\n"
      ]
    }
  ],
  "metadata": {
    "colab": {
      "provenance": []
    },
    "kernelspec": {
      "display_name": "Python 3",
      "language": "python",
      "name": "python3"
    },
    "language_info": {
      "codemirror_mode": {
        "name": "ipython",
        "version": 3
      },
      "file_extension": ".py",
      "mimetype": "text/x-python",
      "name": "python",
      "nbconvert_exporter": "python",
      "pygments_lexer": "ipython3",
      "version": "3.10.1"
    }
  },
  "nbformat": 4,
  "nbformat_minor": 0
}
