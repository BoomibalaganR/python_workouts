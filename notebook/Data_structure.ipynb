{
 "cells": [
  {
   "cell_type": "markdown",
   "metadata": {},
   "source": [
    "Q 2:Data structures\n"
   ]
  },
  {
   "cell_type": "markdown",
   "metadata": {},
   "source": [
    "1.  Write a Python program to find the largest element in an unsorted list without using the built-in `max()` function.\n"
   ]
  },
  {
   "cell_type": "code",
   "execution_count": 7,
   "metadata": {},
   "outputs": [
    {
     "name": "stdout",
     "output_type": "stream",
     "text": [
      "maximum number in given list is:  99\n"
     ]
    }
   ],
   "source": [
    "# Approach 1\n",
    "def satisfy_heap(heap, parent, size): \n",
    "    \n",
    "    left = 2*parent+1 \n",
    "    right = 2*parent+2      \n",
    "            \n",
    "    if right < size:  # have two child \n",
    "                \n",
    "        if heap[left] < heap[right] and heap[parent] < heap[right]:\n",
    "                    heap[parent], heap[right] = heap[right], heap[parent]\n",
    "                    return right  \n",
    "        elif  heap[right] < heap[left] and heap[parent] < heap[left]: \n",
    "            heap[parent], heap[left] = heap[left], heap[parent]\n",
    "            return left\n",
    "                  \n",
    "    elif left < size and  heap[parent] < heap[left]: \n",
    "                    heap[parent], heap[left] = heap[left], heap[parent]\n",
    "                    return left \n",
    "            \n",
    "    return None \n",
    "    \n",
    "    \n",
    "def heapify(nums, parent, size): \n",
    "    while parent is not None: \n",
    "        parent = satisfy_heap(nums, parent, size) \n",
    "        \n",
    "\n",
    "def get_max(nums):\n",
    "    size = len(nums)\n",
    "    for parent in range(size-1, -1, -1):\n",
    "           heapify(nums, parent, size)\n",
    "    return nums[0]\n",
    "\n",
    "\n",
    "nums = [89, 34, 21, 99, 22, 6]\n",
    "print(\"maximum number in given list is: \",get_max(nums))"
   ]
  },
  {
   "cell_type": "code",
   "execution_count": 10,
   "metadata": {},
   "outputs": [
    {
     "name": "stdout",
     "output_type": "stream",
     "text": [
      "maximum number in given list is:  122\n"
     ]
    }
   ],
   "source": [
    "# Approach 2\n",
    "def get_max(nums):\n",
    "    max = nums[0] \n",
    "    \n",
    "    for i in range(1,len(nums)):\n",
    "        if max < nums[i]:\n",
    "            max = nums[i] \n",
    "    return max\n",
    "\n",
    "nums = [89, 34, 21, 99, 122, 6] \n",
    "print(\"maximum number in given list is: \",get_max(nums))"
   ]
  },
  {
   "cell_type": "code",
   "execution_count": 13,
   "metadata": {},
   "outputs": [
    {
     "name": "stdout",
     "output_type": "stream",
     "text": [
      "maximum number in given list is:  122\n"
     ]
    }
   ],
   "source": [
    "# Approach 3\n",
    "nums = [89, 34, 21, 99, 122, 6]  \n",
    "nums.sort()\n",
    "print(\"maximum number in given list is: \",nums[len(nums)-1])"
   ]
  },
  {
   "cell_type": "markdown",
   "metadata": {},
   "source": [
    "2. Implement a basic linked list in Python. Include methods to insert a node at the beginning and end of the list."
   ]
  },
  {
   "cell_type": "code",
   "execution_count": 5,
   "metadata": {},
   "outputs": [
    {
     "name": "stdout",
     "output_type": "stream",
     "text": [
      "successfully inserted at begin...\n",
      "successfully inserted at end...\n",
      "6 \n"
     ]
    }
   ],
   "source": [
    "class LinkedList: \n",
    "    \n",
    "    def __init__(self):\n",
    "       self.__head = None  \n",
    "       self.__tail = None\n",
    "       \n",
    "    class __Node: \n",
    "        \n",
    "        def __init__(self, data):\n",
    "            self.data = data\n",
    "            self.next = None    \n",
    "    \n",
    "    \n",
    "    def insert_at_begin(self, data): \n",
    "        \n",
    "        if self.__head is None:\n",
    "            self.__head = self.__Node(data) \n",
    "            self.__tail = self.__head\n",
    "        else: \n",
    "            new_node = self.__Node(data)\n",
    "            new_node.next = self.__head\n",
    "            self.__head = new_node  \n",
    "        print(\"successfully inserted at begin...\")\n",
    "            \n",
    "            \n",
    "    def insert_at_end(self, data): \n",
    "        \n",
    "        if(self.__head is None):\n",
    "            self.insert_at_begin(data)  \n",
    "        else:\n",
    "            new_node = self.__Node(data)\n",
    "            self.__tail.next = new_node \n",
    "            self.__tail = new_node    \n",
    "        print(\"successfully inserted at end...\")\n",
    "    \n",
    "    \n",
    "    def display(self): \n",
    "       \n",
    "        temp = self.__head  \n",
    "        while temp is not None:\n",
    "            print(temp.data,end=' ') \n",
    "            temp = temp.next \n",
    "        print() \n",
    "        \n",
    "   \n",
    "   \n",
    "        \n",
    "mylist = LinkedList() \n",
    "\n",
    "mylist.insert_at_begin(5)\n",
    "mylist.insert_at_begin(4)\n",
    "mylist.insert_at_begin(3)\n",
    "mylist.insert_at_begin(2) \n",
    "\n",
    "mylist.insert_at_end(6)\n",
    "mylist.display()"
   ]
  },
  {
   "cell_type": "markdown",
   "metadata": {},
   "source": [
    "3.  Implement the bubble sort algorithm in Python. Write a program to sort a list of integers using this algorithm."
   ]
  },
  {
   "cell_type": "code",
   "execution_count": 19,
   "metadata": {},
   "outputs": [
    {
     "name": "stdout",
     "output_type": "stream",
     "text": [
      "[1, 2, 4, 6, 7, 8]\n"
     ]
    }
   ],
   "source": [
    "def bubble_sort(nums):\n",
    "    size = len(nums)\n",
    "    \n",
    "    for i in range(size): \n",
    "        \n",
    "        flag = True\n",
    "        for j in range(size-i-1):\n",
    "            if nums[j] > nums[j+1]: \n",
    "                flag = False\n",
    "                nums[j], nums[j+1] = nums[j+1],nums[j]\n",
    "                 \n",
    "        if flag is True:\n",
    "            return\n",
    "\n",
    "\n",
    "#nums = [8, 4, 1, 6, 7, 2]  \n",
    "nums = [1, 2, 4, 6, 7, 8]\n",
    "bubble_sort(nums) \n",
    "print(nums)"
   ]
  },
  {
   "cell_type": "markdown",
   "metadata": {},
   "source": [
    "4.: Write a Python program that reads a text file containing email addresses and extracts all unique email domains."
   ]
  },
  {
   "cell_type": "code",
   "execution_count": 2,
   "metadata": {},
   "outputs": [
    {
     "name": "stdout",
     "output_type": "stream",
     "text": [
      "{'@outlook.com', '@gmail.com', '@hotmail.com', '@yahoo.com'}\n"
     ]
    }
   ],
   "source": [
    "import re\n",
    "\n",
    "def extract_unique_email(filename):\n",
    "    \n",
    "    file = open(filename,\"r\")   \n",
    "    pattern = \"(@[a-z]+)\\.([a-z]{2,3})\"   \n",
    "    \n",
    "    unique_domain = { re.search(pattern, email).group() for email in file}\n",
    "    file.close()\n",
    "    return unique_domain\n",
    "\n",
    "\n",
    "domains = extract_unique_email(\"empolyee_email.txt\") \n",
    "print(domains)"
   ]
  },
  {
   "cell_type": "markdown",
   "metadata": {},
   "source": [
    "5. Write a Python function to calculate the nth Fibonacci number using recursion. Optimize it using memoization."
   ]
  },
  {
   "cell_type": "code",
   "execution_count": 64,
   "metadata": {},
   "outputs": [
    {
     "name": "stdout",
     "output_type": "stream",
     "text": [
      "10th fibonacci number is  55\n"
     ]
    }
   ],
   "source": [
    "def fibo(n, dp):\n",
    "    \n",
    "    if dp.get(n) is not None:\n",
    "        return dp.get(n) \n",
    "    \n",
    "    dp[n] = fibo(n-1, dp) + fibo(n-2, dp) \n",
    "    return dp[n]\n",
    "\n",
    "\n",
    "n = 10\n",
    "dp = {0:0, 1:1}\n",
    "print(f\"{n}th fibonacci number is \",fibo(n, dp))"
   ]
  },
  {
   "cell_type": "markdown",
   "metadata": {},
   "source": [
    "6. You have a list of numbers. Write a Python program in a Jupyter Notebook to find the longest sequence of     numbers that go one after the other. This sequence doesn't have to be right next to each other in the list, but they must be in the same order.\n",
    "Example:\n",
    "For the list [1, 3, 5, 4, 2, 8, 7, 6, 9], your program should find and show [4, 5, 6, 7, 8] because it's the longest sequence where the numbers come one after the other."
   ]
  },
  {
   "cell_type": "code",
   "execution_count": 28,
   "metadata": {},
   "outputs": [
    {
     "name": "stdout",
     "output_type": "stream",
     "text": [
      "longest sequence :  [4, 5, 6, 7, 8]\n",
      "longest sequence :  [7, 8, 9]\n",
      "longest sequence :  [1, 2, 3, 4, 5, 6, 7, 8, 9]\n",
      "longest sequence :  [1, 2, 3, 4]\n",
      "longest sequence :  []\n",
      "longest sequence :  []\n",
      "longest sequence :  []\n"
     ]
    }
   ],
   "source": [
    "# Approach 1 \n",
    "# time complexity: O(n) * no of matches\n",
    "\n",
    "def get_traverse_condition(ori_list, srt_list, i, j):   \n",
    "    \n",
    "    size = len(srt_list)\n",
    "    if i!=0 and j!=size-1 and srt_list[j+1] == nums[i-1]: # left\n",
    "            return i,-1,-1\n",
    "    elif i!=size-1 and j!=size-1 and srt_list[j+1] == nums[i+1]: # right\n",
    "            return i,size,1\n",
    "    else:\n",
    "        return None\n",
    "            \n",
    "            \n",
    "def longest_sequence(nums):\n",
    "    \n",
    "    size = len(nums)\n",
    "    srt_list = sorted(nums) \n",
    "    indexMap = { nums[i]:i for i in range(size)} \n",
    "\n",
    "    res_list = [] \n",
    "    temp_list = []\n",
    "    \n",
    "    srt_index = 0 \n",
    "    while srt_index  < size: \n",
    "        \n",
    "        condition = get_traverse_condition(nums, srt_list, indexMap.get(srt_list[srt_index]), srt_index ) \n",
    "        \n",
    "        if condition is None:  \n",
    "            if len(res_list) < len(temp_list):  \n",
    "                res_list = temp_list\n",
    "                temp_list = []\n",
    "            srt_index +=1\n",
    "            continue  \n",
    "        \n",
    "        start,end,incre = condition \n",
    "        \n",
    "        for org_index in range(start, end, incre): \n",
    "            \n",
    "            if srt_index  > size-1 or srt_list[srt_index ] != nums[org_index]: \n",
    "                break\n",
    "            temp_list.append(srt_list[srt_index ])\n",
    "            srt_index +=1  \n",
    "      \n",
    "        \n",
    "    if len(res_list) < len(temp_list):\n",
    "        return temp_list \n",
    "    return res_list     \n",
    "       \n",
    "\n",
    "\n",
    "# main \n",
    "\n",
    "# nums = [1, 3, 5, 4, 2, 8, 7, 6, 9]       # output: [4, 5, 6, 7, 8]\n",
    "# nums = [1, 3, 5, 4, 2, 7, 8, 9, 6]       # output:[7, 8, 9]\n",
    "# nums = [1, 2, 3, 4, 5, 6, 7, 8, 9]       # output: [1, 2, 3, 4, 5, 6, 7, 8, 9]\n",
    "# nums = [9, 8, 7, 6, 1, 2, 4, 3, 5]       # output: [1, 2, 3, 4] or [6, 7, 8, 9]\n",
    "# nums = [1, 9, 2, 5, 3, 7, 4, 8, 5]       # output: [] \n",
    "# nums = [5]                               # output: []\n",
    "\n",
    "test_case = ( [1, 3, 5, 4, 2, 8, 7, 6, 9], [1, 3, 5, 4, 2, 7, 8, 9, 6], [1, 2, 3, 4, 5, 6, 7, 8, 9], \n",
    "              [9, 8, 7, 6, 1, 2, 4, 3, 5], [1, 9, 2, 5, 3, 7, 4, 8, 5], [5], []) \n",
    "\n",
    "for nums in test_case:\n",
    "    print(\"longest sequence : \",longest_sequence(nums))\n",
    " \n",
    "\n",
    "\n"
   ]
  },
  {
   "cell_type": "code",
   "execution_count": 2,
   "metadata": {},
   "outputs": [
    {
     "name": "stdout",
     "output_type": "stream",
     "text": [
      "longest sequence :  [4, 5, 6, 7, 8]\n",
      "longest sequence :  [7, 8, 9]\n",
      "longest sequence :  [1, 2, 3, 4, 5, 6, 7, 8, 9]\n",
      "longest sequence :  [1, 2, 3, 4]\n",
      "longest sequence :  []\n",
      "longest sequence :  []\n"
     ]
    }
   ],
   "source": [
    "# Approach 2\n",
    "# Time complexity: O(n)\n",
    "\n",
    "def is_differ_one(indexMap, nums, srt_list, si, sj): \n",
    "    \n",
    "    if len(srt_list) <= sj:\n",
    "        return False \n",
    "    nums_i = indexMap.get(srt_list[si]) \n",
    "    nums_j = indexMap.get(srt_list[sj]) \n",
    "    diff = abs(nums_i - nums_j)  \n",
    "    return diff == 1\n",
    "\n",
    "\n",
    "def longest_sequence(nums):\n",
    "    \n",
    "    size = len(nums)\n",
    "    srt_list = sorted(nums) \n",
    "    indexMap = { nums[i]:i for i in range(size)} \n",
    "\n",
    "    si = 0 \n",
    "    sj = 1 \n",
    "    res = []\n",
    "    temp = []\n",
    "    \n",
    "    while(sj < size):\n",
    "\n",
    "        while(is_differ_one(indexMap, nums, srt_list, si, sj)):\n",
    "            temp.append(srt_list[si])\n",
    "            temp.append(srt_list[sj]) \n",
    "            si+=2\n",
    "            sj+=2  \n",
    "           \n",
    "       \n",
    "        if len(temp) != 0 and is_differ_one(indexMap, nums, srt_list, si-1, si): \n",
    "            temp.append(srt_list[si]) \n",
    "       \n",
    "        if len(res) < len(temp):\n",
    "            res = temp \n",
    "            temp = [] \n",
    "                \n",
    "        si+=1\n",
    "        sj+=1\n",
    "    if  len(res) < len(temp):\n",
    "        return temp\n",
    "    return res\n",
    "\n",
    "\n",
    "\n",
    "# main \n",
    "\n",
    "# nums = [1, 3, 5, 4, 2, 8, 7, 6, 9]       # output: [4, 5, 6, 7, 8]\n",
    "nums = [1, 3, 5, 4, 2, 7, 8, 9, 6]       # output:[7, 8, 9]\n",
    "\n",
    "# nums = [1, 2, 3, 4, 5, 6, 7, 8, 9]       # output: [1, 2, 3, 4, 5, 6, 7, 8, 9]\n",
    "# nums = [9, 8, 7, 6, 1, 2, 4, 3, 5]       # output: [1, 2, 3, 4] or [6, 7, 8, 9]\n",
    "# nums = [1, 9, 2, 5, 3, 7, 4, 8, 5]       # output: [] \n",
    "# nums = [5]                               # output: []\n",
    "\n",
    "\n",
    "test_case = ( [1, 3, 5, 4, 2, 8, 7, 6, 9], [1, 3, 5, 4, 2, 7, 8, 9, 6], [1, 2, 3, 4, 5, 6, 7, 8, 9], \n",
    "              [9, 8, 7, 6, 1, 2, 4, 3, 5], [1, 9, 2, 5, 3, 7, 4, 8, 5], [5]) \n",
    "\n",
    "for nums in test_case:\n",
    "    print(\"longest sequence : \",longest_sequence(nums))\n",
    "    \n"
   ]
  }
 ],
 "metadata": {
  "kernelspec": {
   "display_name": "Python 3",
   "language": "python",
   "name": "python3"
  },
  "language_info": {
   "codemirror_mode": {
    "name": "ipython",
    "version": 3
   },
   "file_extension": ".py",
   "mimetype": "text/x-python",
   "name": "python",
   "nbconvert_exporter": "python",
   "pygments_lexer": "ipython3",
   "version": "3.10.1"
  }
 },
 "nbformat": 4,
 "nbformat_minor": 2
}
